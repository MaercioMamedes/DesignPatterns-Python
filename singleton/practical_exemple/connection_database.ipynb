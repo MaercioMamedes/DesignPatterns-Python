{
 "cells": [
  {
   "cell_type": "code",
   "execution_count": 1,
   "metadata": {},
   "outputs": [],
   "source": [
    "import sqlite3"
   ]
  },
  {
   "cell_type": "code",
   "execution_count": 2,
   "metadata": {},
   "outputs": [],
   "source": [
    "class MetaSingleton(type):\n",
    "    _instances = {}\n",
    "\n",
    "    def __call__(cls, *args, **kwargs):\n",
    "        if cls not in cls._instances:\n",
    "            cls._instances[cls] = super(MetaSingleton, cls).__call__(*args, **kwargs)\n",
    "\n",
    "        \n",
    "        return cls._instances[cls]"
   ]
  },
  {
   "cell_type": "code",
   "execution_count": 10,
   "metadata": {},
   "outputs": [],
   "source": [
    "class Database(metaclass=MetaSingleton):\n",
    "    connection = None\n",
    "\n",
    "    def connect(self):\n",
    "        if self.connection is None:\n",
    "\n",
    "            self.connection = sqlite3.connect('db.sqlite3')\n",
    "            self.cursorobj = self.connection.cursor()\n",
    "        \n",
    "        return self.cursorobj"
   ]
  },
  {
   "cell_type": "code",
   "execution_count": 11,
   "metadata": {},
   "outputs": [],
   "source": [
    "db1 = Database().connect()\n",
    "db2 = Database().connect()"
   ]
  },
  {
   "cell_type": "code",
   "execution_count": 12,
   "metadata": {},
   "outputs": [
    {
     "name": "stdout",
     "output_type": "stream",
     "text": [
      "Database Object 1:  <sqlite3.Cursor object at 0x7f1a8d5cc540>\n",
      "Database object2:  <sqlite3.Cursor object at 0x7f1a8d5cc540>\n"
     ]
    }
   ],
   "source": [
    "print(\"Database Object 1: \", db1)\n",
    "print(\"Database object2: \", db2)"
   ]
  }
 ],
 "metadata": {
  "kernelspec": {
   "display_name": "venv",
   "language": "python",
   "name": "python3"
  },
  "language_info": {
   "codemirror_mode": {
    "name": "ipython",
    "version": 3
   },
   "file_extension": ".py",
   "mimetype": "text/x-python",
   "name": "python",
   "nbconvert_exporter": "python",
   "pygments_lexer": "ipython3",
   "version": "3.11.4"
  },
  "orig_nbformat": 4
 },
 "nbformat": 4,
 "nbformat_minor": 2
}
