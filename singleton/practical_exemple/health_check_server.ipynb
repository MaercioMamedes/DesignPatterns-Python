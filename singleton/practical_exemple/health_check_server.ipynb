{
 "cells": [
  {
   "cell_type": "markdown",
   "metadata": {},
   "source": [
    "## Utilizando Singletons para Checar servidores"
   ]
  },
  {
   "cell_type": "code",
   "execution_count": 11,
   "metadata": {},
   "outputs": [],
   "source": [
    "class HealhCheck:\n",
    "    _instance = None\n",
    "\n",
    "    def __new__(cls, *args, **kwargs):\n",
    "\n",
    "        if not HealhCheck._instance:\n",
    "            HealhCheck._instance = super(HealhCheck, cls).__new__(cls, *args, **kwargs)\n",
    "\n",
    "        return HealhCheck._instance\n",
    "\n",
    "    def __init__(self) -> None:\n",
    "        self._servers = []\n",
    "\n",
    "    def add_server(self):\n",
    "        # Adiciona servidores na lista\n",
    "\n",
    "        self._servers.append(\"Server 1\")\n",
    "        self._servers.append(\"server 2\")\n",
    "        self._servers.append(\"Server 3\")\n",
    "        self._servers.append(\"server 4\")\n",
    "\n",
    "    def change_server(self):\n",
    "        # Retira o último servidor da lista e inclui um novo\n",
    "        \n",
    "        self._servers.pop()\n",
    "        self._servers.append(\"Server 5\")"
   ]
  },
  {
   "cell_type": "code",
   "execution_count": 12,
   "metadata": {},
   "outputs": [],
   "source": [
    "# Declarando duas variáveis para a classe Singleton, no caso, HealthCheck\n",
    "\n",
    "health_check1 = HealhCheck()\n",
    "health_check2 = HealhCheck()"
   ]
  },
  {
   "cell_type": "code",
   "execution_count": 13,
   "metadata": {},
   "outputs": [
    {
     "name": "stdout",
     "output_type": "stream",
     "text": [
      "Schedule health chech for severs (1)..\n"
     ]
    }
   ],
   "source": [
    "health_check1.add_server()\n",
    "print(\"Schedule health chech for severs (1)..\")"
   ]
  },
  {
   "cell_type": "code",
   "execution_count": 14,
   "metadata": {},
   "outputs": [
    {
     "name": "stdout",
     "output_type": "stream",
     "text": [
      "Checking  Server 1\n",
      "Checking  server 2\n",
      "Checking  Server 3\n",
      "Checking  server 4\n"
     ]
    }
   ],
   "source": [
    "# Checando os servidores com a instância definida na variável healtg_check1\n",
    "\n",
    "for i in range(4):\n",
    "    print(\"Checking \", health_check1._servers[i])"
   ]
  },
  {
   "cell_type": "code",
   "execution_count": 15,
   "metadata": {},
   "outputs": [
    {
     "name": "stdout",
     "output_type": "stream",
     "text": [
      "Shedule helth check for servers (2)..\n"
     ]
    }
   ],
   "source": [
    "# Retirando o último servidor da lista e incluindo um novo, porém utilizando a instância definida na variável health_check2\n",
    "\n",
    "health_check2.change_server()\n",
    "print(\"Shedule helth check for servers (2)..\")"
   ]
  },
  {
   "cell_type": "code",
   "execution_count": 16,
   "metadata": {},
   "outputs": [
    {
     "name": "stdout",
     "output_type": "stream",
     "text": [
      "Checking  Server 1\n",
      "Checking  server 2\n",
      "Checking  Server 3\n",
      "Checking  Server 5\n"
     ]
    }
   ],
   "source": [
    "# Checando a lista de servidores\n",
    "\n",
    "for i in range(4):\n",
    "    print(\"Checking \", health_check2._servers[i])"
   ]
  }
 ],
 "metadata": {
  "kernelspec": {
   "display_name": "venv",
   "language": "python",
   "name": "python3"
  },
  "language_info": {
   "codemirror_mode": {
    "name": "ipython",
    "version": 3
   },
   "file_extension": ".py",
   "mimetype": "text/x-python",
   "name": "python",
   "nbconvert_exporter": "python",
   "pygments_lexer": "ipython3",
   "version": "3.11.4"
  },
  "orig_nbformat": 4
 },
 "nbformat": 4,
 "nbformat_minor": 2
}
