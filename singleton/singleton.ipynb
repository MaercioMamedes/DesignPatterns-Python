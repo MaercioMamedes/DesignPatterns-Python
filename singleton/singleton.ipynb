{
 "cells": [
  {
   "cell_type": "markdown",
   "id": "de53ae69",
   "metadata": {},
   "source": [
    " ### Implementando um **Singleton** Clássico em Python"
   ]
  },
  {
   "cell_type": "markdown",
   "id": "eef3cc6a",
   "metadata": {},
   "source": [
    "Single é um padrão de projeto que tem o objetivo de garantir apenas um objeto de uma mesma classe seja instanciado"
   ]
  },
  {
   "cell_type": "code",
   "execution_count": 1,
   "id": "92efd6e4",
   "metadata": {},
   "outputs": [],
   "source": [
    "class Singleton(object):\n",
    "    \n",
    "    def __new__(cls):\n",
    "        if not hasattr(cls, 'instance'):\n",
    "            # Verifica se já existe alguma instância da classe, caso não, cria um objeto\n",
    "            cls.instance = super(Singleton, cls).__new__(cls)\n",
    "        \n",
    "        return cls.instance\n",
    "        "
   ]
  },
  {
   "cell_type": "code",
   "execution_count": 2,
   "id": "b923fd0c",
   "metadata": {},
   "outputs": [
    {
     "name": "stdout",
     "output_type": "stream",
     "text": [
      "Object created <__main__.Singleton object at 0x7fd1980d29d0>\n"
     ]
    }
   ],
   "source": [
    "object_1 = Singleton()\n",
    "print(\"Object created\", object_1)"
   ]
  },
  {
   "cell_type": "code",
   "execution_count": 3,
   "id": "b8d1a48e",
   "metadata": {},
   "outputs": [
    {
     "name": "stdout",
     "output_type": "stream",
     "text": [
      "Object created <__main__.Singleton object at 0x7fd1980d29d0>\n"
     ]
    }
   ],
   "source": [
    "object_2 = Singleton()\n",
    "print(\"Object created\", object_2)"
   ]
  },
  {
   "cell_type": "markdown",
   "id": "685fd8e6",
   "metadata": {
    "jp-MarkdownHeadingCollapsed": true
   },
   "source": [
    "#### As instâncias *object_1* e *object_2* possuem o mesmo endereço de memória, ou seja, são os mesmos objetos"
   ]
  },
  {
   "cell_type": "markdown",
   "id": "cfd09e7c",
   "metadata": {},
   "source": [
    "### Singleton Lazy Instatiation"
   ]
  },
  {
   "cell_type": "markdown",
   "id": "bab04a4a-8766-46dd-a5e5-d51cfe44863f",
   "metadata": {},
   "source": [
    "Um objeto Singleton é apenas instanciado quando um método específico, é chamado para isso. Evitando que haja uma instanciação de forma indevida."
   ]
  },
  {
   "cell_type": "code",
   "execution_count": 4,
   "id": "334a0f55",
   "metadata": {},
   "outputs": [],
   "source": [
    "class Singleton:\n",
    "    \n",
    "    __instance = None\n",
    "    \n",
    "    def __init__(self):\n",
    "        \n",
    "        if not Singleton.__instance:\n",
    "            print(\" __init__ method called\")\n",
    "            \n",
    "        else:\n",
    "            print(\"Instance already created\", self.getInstance())\n",
    "    \n",
    "    @classmethod\n",
    "    def getInstance(cls):\n",
    "        \n",
    "        if not cls.__instance:\n",
    "            cls.__instance = Singleton() # O objeto apenas é criado quando é instanciado pela própria classe ?\n",
    "        \n",
    "        return cls.__instance\n",
    "    "
   ]
  },
  {
   "cell_type": "code",
   "execution_count": 5,
   "id": "fc11a4be",
   "metadata": {},
   "outputs": [
    {
     "name": "stdout",
     "output_type": "stream",
     "text": [
      " __init__ method called\n"
     ]
    }
   ],
   "source": [
    "object_3 = Singleton() # Classe é inicializada, mas o objeto não é criado"
   ]
  },
  {
   "cell_type": "code",
   "execution_count": 6,
   "id": "7fa87605",
   "metadata": {},
   "outputs": [
    {
     "name": "stdout",
     "output_type": "stream",
     "text": [
      " __init__ method called\n",
      "Object created <__main__.Singleton object at 0x7fd199810f90>\n"
     ]
    }
   ],
   "source": [
    "print(\"Object created\", Singleton.getInstance()) # O objeto é criado aqui"
   ]
  },
  {
   "cell_type": "code",
   "execution_count": 7,
   "id": "e990f391",
   "metadata": {},
   "outputs": [
    {
     "name": "stdout",
     "output_type": "stream",
     "text": [
      "Instance already created <__main__.Singleton object at 0x7fd199810f90>\n"
     ]
    }
   ],
   "source": [
    "object_4 = Singleton()"
   ]
  },
  {
   "cell_type": "markdown",
   "id": "85d31522-0ff4-44f3-9a8d-129daf7f1438",
   "metadata": {},
   "source": [
    "### Singleton Monostate"
   ]
  },
  {
   "cell_type": "code",
   "execution_count": 8,
   "id": "3a011921-ad9e-4c12-886f-3243ad851b63",
   "metadata": {},
   "outputs": [],
   "source": [
    "class Borg:\n",
    "    __shared_state = {\"1\":\"2\"}\n",
    "\n",
    "    def __init__(self):\n",
    "        self.x = 1\n",
    "        self.__dict__ = self.__shared_state"
   ]
  },
  {
   "cell_type": "code",
   "execution_count": 9,
   "id": "c6a8e621-74b7-4070-bbd8-b6b9cf08ea53",
   "metadata": {},
   "outputs": [],
   "source": [
    "object_b1 = Borg()\n",
    "object_b2 = Borg()"
   ]
  },
  {
   "cell_type": "markdown",
   "id": "54daeedc-4d2b-4764-89ed-7405a4f937e1",
   "metadata": {},
   "source": [
    "#### *object_b1* e *object_b2*, possuem endereço de memória diferentes, portanto não são o mesmo objeto"
   ]
  },
  {
   "cell_type": "code",
   "execution_count": 10,
   "id": "0014c77d-900d-4275-b5cb-5a0adc850e92",
   "metadata": {},
   "outputs": [],
   "source": [
    "object_b1.x = 4"
   ]
  },
  {
   "cell_type": "code",
   "execution_count": 11,
   "id": "65f64834-1ec9-4706-85ea-3a61875d2d0d",
   "metadata": {
    "scrolled": true
   },
   "outputs": [
    {
     "name": "stdout",
     "output_type": "stream",
     "text": [
      "Borg 'object_b1':  <__main__.Borg object at 0x7fd1980e43d0>\n",
      "Borg 'object_b2':  <__main__.Borg object at 0x7fd1980e4a90>\n"
     ]
    }
   ],
   "source": [
    "print(\"Borg 'object_b1': \", object_b1)\n",
    "print(\"Borg 'object_b2': \", object_b2)"
   ]
  },
  {
   "cell_type": "markdown",
   "id": "45b8b0be-dfdb-4572-af7b-9b4b796b1d7f",
   "metadata": {},
   "source": [
    "#### *object_b1* e *object_b2* possuem o mesmo estado, ou seja, seus atributos possuem o mesmo valor"
   ]
  },
  {
   "cell_type": "code",
   "execution_count": 12,
   "id": "02871836-5a5d-4d04-b5ea-4588f2b99a66",
   "metadata": {},
   "outputs": [
    {
     "name": "stdout",
     "output_type": "stream",
     "text": [
      "object_b1_state:  {'1': '2', 'x': 4}\n",
      "object_b2_state:  {'1': '2', 'x': 4}\n"
     ]
    }
   ],
   "source": [
    "print(\"object_b1_state: \",object_b1.__dict__) \n",
    "print(\"object_b2_state: \", object_b2.__dict__)"
   ]
  },
  {
   "cell_type": "code",
   "execution_count": 13,
   "id": "a85bd707-129c-454d-9d83-36441f514a64",
   "metadata": {},
   "outputs": [
    {
     "data": {
      "text/plain": [
       "4"
      ]
     },
     "execution_count": 13,
     "metadata": {},
     "output_type": "execute_result"
    }
   ],
   "source": [
    "object_b2.x"
   ]
  },
  {
   "cell_type": "markdown",
   "id": "90f9baba-d623-4cb9-ab1f-8c4ff0e40881",
   "metadata": {},
   "source": [
    "#### Outra forma de implementar o padrão Borg"
   ]
  },
  {
   "cell_type": "code",
   "execution_count": 14,
   "id": "31eb9bc6-5114-452a-868f-0106a5f0fca1",
   "metadata": {},
   "outputs": [],
   "source": [
    "class BorgOther:\n",
    "    _shared_state = {}\n",
    "\n",
    "    def __new__(cls, *args, **kwargs):\n",
    "        obj = super(BorgOther, cls).__new__(cls, *args, **kwargs)\n",
    "        obj.__dict__ = cls._shared_state\n",
    "\n",
    "        return obj"
   ]
  },
  {
   "cell_type": "code",
   "execution_count": 15,
   "id": "653c9a14-f13d-4246-974c-ac9476d1173e",
   "metadata": {},
   "outputs": [],
   "source": [
    "object_b3 = BorgOther()"
   ]
  },
  {
   "cell_type": "code",
   "execution_count": 16,
   "id": "d930fc97-0d49-494d-88f7-74612c8b6528",
   "metadata": {},
   "outputs": [],
   "source": [
    "object_b4 = BorgOther()"
   ]
  },
  {
   "cell_type": "code",
   "execution_count": 17,
   "id": "d9bd8451-d7da-4067-9d7f-c5cefefa12cd",
   "metadata": {},
   "outputs": [],
   "source": [
    "object_b4.x = 'any_value'"
   ]
  },
  {
   "cell_type": "code",
   "execution_count": 20,
   "id": "02255720-1ea3-4bf0-a9d6-0b397e263444",
   "metadata": {},
   "outputs": [
    {
     "name": "stdout",
     "output_type": "stream",
     "text": [
      " Object_b3:  <__main__.BorgOther object at 0x7fd1980fb350>\n",
      " Object_b4:  <__main__.BorgOther object at 0x7fd1980fb590>\n"
     ]
    }
   ],
   "source": [
    "print(\" Object_b3: \", object_b3)\n",
    "print(\" Object_b4: \", object_b4)"
   ]
  },
  {
   "cell_type": "code",
   "execution_count": 21,
   "id": "5612b1e6-3cca-46f5-b7bf-addeadb9f615",
   "metadata": {},
   "outputs": [
    {
     "name": "stdout",
     "output_type": "stream",
     "text": [
      " object_b3_state:  {'x': 'any_value'}\n",
      " Object_b4_state:  {'x': 'any_value'}\n"
     ]
    }
   ],
   "source": [
    "print(\" object_b3_state: \", object_b3._shared_state)\n",
    "print(\" Object_b4_state: \", object_b4._shared_state)"
   ]
  },
  {
   "cell_type": "markdown",
   "id": "9ac4a5f8-bdca-400e-bbaa-5782d8fcfcf3",
   "metadata": {},
   "source": [
    "#### Singleton e Metaclasses"
   ]
  },
  {
   "cell_type": "markdown",
   "id": "f08e3e37-7099-4d25-8484-a94edf9088ed",
   "metadata": {},
   "source": [
    "Implementando uma classe Singleton com Metaclasses"
   ]
  },
  {
   "cell_type": "code",
   "execution_count": 25,
   "id": "a23e5419-f041-4af8-a77c-2c91ae547330",
   "metadata": {},
   "outputs": [],
   "source": [
    "class MetaSingleton(type):\n",
    "    _instances = {}\n",
    "\n",
    "    def __call__(cls, *args, **kwargs):\n",
    "        if cls not in cls._instances:\n",
    "            cls._instances[cls] = super(MetaSingleton, cls).__call__(*args, **kwargs)\n",
    "\n",
    "        return cls._instances[cls]"
   ]
  },
  {
   "cell_type": "code",
   "execution_count": 26,
   "id": "54ce3561-34e7-480d-bbb0-2bfdb19fa064",
   "metadata": {},
   "outputs": [],
   "source": [
    "class Logger(metaclass=MetaSingleton):\n",
    "    pass"
   ]
  },
  {
   "cell_type": "code",
   "execution_count": 28,
   "id": "6950b0b0-867c-44ff-bd0f-a60fbc151039",
   "metadata": {},
   "outputs": [
    {
     "name": "stdout",
     "output_type": "stream",
     "text": [
      "object logger1:  <__main__.Logger object at 0x7fd19927ed50>\n",
      "object logger2:  <__main__.Logger object at 0x7fd19927ed50>\n"
     ]
    }
   ],
   "source": [
    "logger1 = Logger()\n",
    "logger2 = Logger()\n",
    "print(\"object logger1: \", logger1)\n",
    "print(\"object logger2: \", logger2)"
   ]
  },
  {
   "cell_type": "code",
   "execution_count": null,
   "id": "f8ddaba5-9f17-426e-9079-b2e66956dbda",
   "metadata": {},
   "outputs": [],
   "source": []
  }
 ],
 "metadata": {
  "kernelspec": {
   "display_name": "Python 3 (ipykernel)",
   "language": "python",
   "name": "python3"
  },
  "language_info": {
   "codemirror_mode": {
    "name": "ipython",
    "version": 3
   },
   "file_extension": ".py",
   "mimetype": "text/x-python",
   "name": "python",
   "nbconvert_exporter": "python",
   "pygments_lexer": "ipython3",
   "version": "3.11.4"
  }
 },
 "nbformat": 4,
 "nbformat_minor": 5
}
